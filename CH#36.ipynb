{
 "cells": [
  {
   "cell_type": "code",
   "execution_count": 1,
   "metadata": {},
   "outputs": [
    {
     "name": "stdout",
     "output_type": "stream",
     "text": [
      "[{'car_ID': '0', 'Name': 'Veneno'}, {'car_ID': '1', 'Name': 'Porche'}, {'car_ID': '2', 'Name': 'Dodge'}]\n",
      "\n",
      "[{'car_ID': '0', 'Name': 'Veneno'}, {'car_ID': '1', 'Name': 'Porche'}, {'car_ID': '2', 'Name': 'Dodge'}, {'Car_ID': '3', 'Name': 'Ferrari'}]\n"
     ]
    }
   ],
   "source": [
    "Cars = [\n",
    "    {\n",
    "    \"car_ID\" : \"0\",\n",
    "    \"Name\" : \"Veneno\",\n",
    "    },\n",
    "      {\n",
    "    \"car_ID\" : \"1\",\n",
    "    \"Name\" : \"Porche\",\n",
    "    },                                  #Creating a list of dictionaries\n",
    "      {\n",
    "    \"car_ID\" : \"2\",\n",
    "    \"Name\" : \"Dodge\",\n",
    "    },\n",
    "    \n",
    "]\n",
    "print (Cars)\n",
    "\n",
    "print(\"\")\n",
    "\n",
    "newCar = {\n",
    "     \"Car_ID\" : \"3\",\n",
    "    \"Name\" : \"Ferrari\",\n",
    "}\n",
    "Cars.append(newCar)                       #Append a new dictionary to a list of dictionaries\n",
    "print (Cars)"
   ]
  },
  {
   "cell_type": "code",
   "execution_count": null,
   "metadata": {},
   "outputs": [],
   "source": []
  }
 ],
 "metadata": {
  "kernelspec": {
   "display_name": "Python 3",
   "language": "python",
   "name": "python3"
  },
  "language_info": {
   "codemirror_mode": {
    "name": "ipython",
    "version": 3
   },
   "file_extension": ".py",
   "mimetype": "text/x-python",
   "name": "python",
   "nbconvert_exporter": "python",
   "pygments_lexer": "ipython3",
   "version": "3.6.5"
  }
 },
 "nbformat": 4,
 "nbformat_minor": 2
}
