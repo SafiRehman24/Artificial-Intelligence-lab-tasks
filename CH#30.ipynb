{
 "cells": [
  {
   "cell_type": "code",
   "execution_count": 2,
   "metadata": {},
   "outputs": [
    {
     "name": "stdout",
     "output_type": "stream",
     "text": [
      "\n",
      "\n",
      "{1: 'Porche', 2: 'Ferrari', 3: 'Subaru', 4: 'Lamborghini'} \n",
      "\n",
      "{'Name': 'Hussam', 'ID': '1029-2015'}\n",
      "\n",
      "\n",
      "{1: 'Porche', 3: 'Subaru', 4: 'Lamborghini'}\n",
      "{'Name': 'Hussam'}\n",
      "{1: 'Porche', 3: 'Subaru', 4: 'Terzo Milineno'}\n"
     ]
    }
   ],
   "source": [
    "Cars = { 1: \"Porche\",  2: \"Ferrari\",  3: \"Subaru\" }\n",
    "Cars[4]=\"Lamborghini\"\n",
    "profile = { \"Name\" : \"Hussam\"}\n",
    "profile[\"ID\"]=\"1029-2015\"\n",
    "print ( \"\\n\")\n",
    "print (Cars ,\"\\n\")\n",
    "print (profile)\n",
    "del Cars[2]            #Removing\n",
    "del profile[\"ID\"]\n",
    "print ( \"\\n\")\n",
    "print (Cars)\n",
    "print (profile)\n",
    "\n",
    "Cars[4]=\"Terzo Milineno\"            #Changing\n",
    "print (Cars)"
   ]
  },
  {
   "cell_type": "code",
   "execution_count": null,
   "metadata": {},
   "outputs": [],
   "source": []
  }
 ],
 "metadata": {
  "kernelspec": {
   "display_name": "Python 3",
   "language": "python",
   "name": "python3"
  },
  "language_info": {
   "codemirror_mode": {
    "name": "ipython",
    "version": 3
   },
   "file_extension": ".py",
   "mimetype": "text/x-python",
   "name": "python",
   "nbconvert_exporter": "python",
   "pygments_lexer": "ipython3",
   "version": "3.6.5"
  }
 },
 "nbformat": 4,
 "nbformat_minor": 2
}
