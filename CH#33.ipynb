{
 "cells": [
  {
   "cell_type": "code",
   "execution_count": 1,
   "metadata": {},
   "outputs": [
    {
     "name": "stdout",
     "output_type": "stream",
     "text": [
      "The Car Name is Lamborghini Veneno\n",
      "The Car Genere is Sport car\n",
      "The Car Model is Veneno\n",
      "The Car Release year is 2015\n"
     ]
    }
   ],
   "source": [
    "Car = {\n",
    "  \"Name\": \"Lamborghini Veneno\",\n",
    "  \"Genere\": \"Sport car\",\n",
    "  \"Model\": \"Veneno\",\n",
    "  \"Release year\": \"2015\",\n",
    "}\n",
    "for key , value in Car.items():\n",
    "    print(\"The Car \"+key+\" is \"+value)"
   ]
  }
 ],
 "metadata": {
  "kernelspec": {
   "display_name": "Python 3",
   "language": "python",
   "name": "python3"
  },
  "language_info": {
   "codemirror_mode": {
    "name": "ipython",
    "version": 3
   },
   "file_extension": ".py",
   "mimetype": "text/x-python",
   "name": "python",
   "nbconvert_exporter": "python",
   "pygments_lexer": "ipython3",
   "version": "3.6.5"
  }
 },
 "nbformat": 4,
 "nbformat_minor": 2
}
