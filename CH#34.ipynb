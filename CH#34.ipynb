{
 "cells": [
  {
   "cell_type": "code",
   "execution_count": 3,
   "metadata": {},
   "outputs": [
    {
     "name": "stdout",
     "output_type": "stream",
     "text": [
      "[{'Cars_ID': '1567-2015', 'Name': 'Subaru'}, {'Cars_ID': '0011-2015', 'Name': 'Veneno'}, {'Cars_ID': '1010-2015', 'Name': 'Porche'}, {'Cars_ID': '1211-2015', 'Name': 'La-Ferrari'}]\n"
     ]
    }
   ],
   "source": [
    "Cars = [\n",
    "    {\n",
    "    \"Cars_ID\" : \"1567-2015\",\n",
    "    \"Name\" : \"Subaru\",\n",
    "    },\n",
    "      {\n",
    "    \"Cars_ID\" : \"0011-2015\",\n",
    "    \"Name\" : \"Veneno\",\n",
    "    },                                  #Creating a list of dictionaries\n",
    "      {\n",
    "    \"Cars_ID\" : \"1010-2015\",\n",
    "    \"Name\" : \"Porche\",\n",
    "    },\n",
    "      {\n",
    "    \"Cars_ID\" : \"1211-2015\",\n",
    "    \"Name\" : \"La-Ferrari\",\n",
    "    },\n",
    "    \n",
    "]\n",
    "print(Cars)"
   ]
  },
  {
   "cell_type": "code",
   "execution_count": null,
   "metadata": {},
   "outputs": [],
   "source": []
  }
 ],
 "metadata": {
  "kernelspec": {
   "display_name": "Python 3",
   "language": "python",
   "name": "python3"
  },
  "language_info": {
   "codemirror_mode": {
    "name": "ipython",
    "version": 3
   },
   "file_extension": ".py",
   "mimetype": "text/x-python",
   "name": "python",
   "nbconvert_exporter": "python",
   "pygments_lexer": "ipython3",
   "version": "3.6.5"
  }
 },
 "nbformat": 4,
 "nbformat_minor": 2
}
