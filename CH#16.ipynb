{
 "cells": [
  {
   "cell_type": "code",
   "execution_count": 3,
   "metadata": {},
   "outputs": [
    {
     "name": "stdout",
     "output_type": "stream",
     "text": [
      "Lenovo and  Xiaomi, both are Fast !\n",
      "Lenovo and Motorolla, both are  amazing ! \n",
      "Qourma is not a Mobile \n",
      "['Qourma', 'Lenovo', 'Samsung', 'HTC', 'iPhone', 'VEVO', 'Xiaomi', 'Motorolla']\n"
     ]
    }
   ],
   "source": [
    "Mobile = [ \"Lenovo\", \"Samsung\", \"HTC\", \"iPhone\", \"VEVO\", \"Xiaomi\" ]\n",
    "\n",
    "print(str(Mobile[0]) + \" and  \" + str(Mobile[5])+\", both are Fast !\")\n",
    "\n",
    "Mobile.append(\"Motorolla\")\n",
    "\n",
    "print(str(Mobile[0]) + \" and \" + str(Mobile[6])+\", both are  amazing ! \")\n",
    "\n",
    "Mobile.insert(0,\"Qourma\")\n",
    "\n",
    "print(str(Mobile[0]) +\" is not a Mobile \")\n",
    "\n",
    "print(str(Mobile))"
   ]
  },
  {
   "cell_type": "code",
   "execution_count": null,
   "metadata": {},
   "outputs": [],
   "source": []
  },
  {
   "cell_type": "code",
   "execution_count": null,
   "metadata": {},
   "outputs": [],
   "source": []
  }
 ],
 "metadata": {
  "kernelspec": {
   "display_name": "Python 3",
   "language": "python",
   "name": "python3"
  },
  "language_info": {
   "codemirror_mode": {
    "name": "ipython",
    "version": 3
   },
   "file_extension": ".py",
   "mimetype": "text/x-python",
   "name": "python",
   "nbconvert_exporter": "python",
   "pygments_lexer": "ipython3",
   "version": "3.6.5"
  }
 },
 "nbformat": 4,
 "nbformat_minor": 2
}
