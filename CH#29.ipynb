{
 "cells": [
  {
   "cell_type": "code",
   "execution_count": 6,
   "metadata": {},
   "outputs": [
    {
     "name": "stdout",
     "output_type": "stream",
     "text": [
      "\n",
      "\n",
      "{1: 'Porche', 2: 'Ferrari', 3: 'Subaru', 4: 'Lamborghini'} \n",
      "\n",
      "{'Name': 'Hussam', 'ID': '1567-2015'}\n"
     ]
    }
   ],
   "source": [
    "Cars = { 1: \"Porche\",  2: \"Ferrari\",  3: \"Subaru\" }\n",
    "Cars[4]=\"Lamborghini\"\n",
    "profile = { \"Name\" : \"Hussam\"}\n",
    "profile[\"ID\"]=\"1567-2015\"\n",
    "print ( \"\\n\")\n",
    "print (Cars ,\"\\n\")\n",
    "print (profile)"
   ]
  },
  {
   "cell_type": "code",
   "execution_count": null,
   "metadata": {},
   "outputs": [],
   "source": []
  }
 ],
 "metadata": {
  "kernelspec": {
   "display_name": "Python 3",
   "language": "python",
   "name": "python3"
  },
  "language_info": {
   "codemirror_mode": {
    "name": "ipython",
    "version": 3
   },
   "file_extension": ".py",
   "mimetype": "text/x-python",
   "name": "python",
   "nbconvert_exporter": "python",
   "pygments_lexer": "ipython3",
   "version": "3.6.5"
  }
 },
 "nbformat": 4,
 "nbformat_minor": 2
}
