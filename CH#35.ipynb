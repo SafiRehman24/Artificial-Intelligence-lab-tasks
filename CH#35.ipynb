{
 "cells": [
  {
   "cell_type": "code",
   "execution_count": 1,
   "metadata": {},
   "outputs": [
    {
     "name": "stdout",
     "output_type": "stream",
     "text": [
      "Veneno\n"
     ]
    }
   ],
   "source": [
    "Cars = [\n",
    "    {\n",
    "    \"car_ID\" : 0,\n",
    "    \"Name\" : \"Porche\",\n",
    "    },\n",
    "      {\n",
    "    \"car_ID\" : 1,\n",
    "    \"Name\" : \"Subaru\",\n",
    "    },                                  #Creating a list of dictionaries\n",
    "      {\n",
    "    \"car_ID\" : 2,\n",
    "    \"Name\" : \"Veneno\",\n",
    "    },\n",
    "      {\n",
    "    \"car_ID\" : 3,             \n",
    "    \"Name\" : \"Dodge\",\n",
    "    },\n",
    "                                         #How to pick information out of a list of dictionaries\n",
    "]\n",
    "\n",
    "search = Cars[2]\n",
    "Search_Name= search[\"Name\"]\n",
    "print(Search_Name)"
   ]
  },
  {
   "cell_type": "code",
   "execution_count": null,
   "metadata": {},
   "outputs": [],
   "source": []
  }
 ],
 "metadata": {
  "kernelspec": {
   "display_name": "Python 3",
   "language": "python",
   "name": "python3"
  },
  "language_info": {
   "codemirror_mode": {
    "name": "ipython",
    "version": 3
   },
   "file_extension": ".py",
   "mimetype": "text/x-python",
   "name": "python",
   "nbconvert_exporter": "python",
   "pygments_lexer": "ipython3",
   "version": "3.6.5"
  }
 },
 "nbformat": 4,
 "nbformat_minor": 2
}
