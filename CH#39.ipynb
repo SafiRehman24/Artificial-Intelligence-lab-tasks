{
 "cells": [
  {
   "cell_type": "code",
   "execution_count": 2,
   "metadata": {},
   "outputs": [
    {
     "name": "stdout",
     "output_type": "stream",
     "text": [
      "[{'car id': 0, 'name': 'Veneno', 'genere': 'Modified'}, {'car id': 1, 'name': 'Porche', 'genere': 'Custom'}]\n"
     ]
    }
   ],
   "source": [
    "Cars = [\n",
    "    {\n",
    "         \"car id\": 0,\n",
    "         \"name\":\"Veneno\",\n",
    "         \"genere\": \"Modified\", \n",
    "    },\n",
    "\n",
    "    {\n",
    "        \"car id\": 1, \n",
    "        \"name\":\"Porche\",\n",
    "        \"genere\": \"Custom\", \n",
    "    },]\n",
    "\n",
    "print(str(Cars))"
   ]
  },
  {
   "cell_type": "code",
   "execution_count": null,
   "metadata": {},
   "outputs": [],
   "source": []
  }
 ],
 "metadata": {
  "kernelspec": {
   "display_name": "Python 3",
   "language": "python",
   "name": "python3"
  },
  "language_info": {
   "codemirror_mode": {
    "name": "ipython",
    "version": 3
   },
   "file_extension": ".py",
   "mimetype": "text/x-python",
   "name": "python",
   "nbconvert_exporter": "python",
   "pygments_lexer": "ipython3",
   "version": "3.6.5"
  }
 },
 "nbformat": 4,
 "nbformat_minor": 2
}
