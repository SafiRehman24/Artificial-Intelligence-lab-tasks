{
 "cells": [
  {
   "cell_type": "code",
   "execution_count": 7,
   "metadata": {},
   "outputs": [
    {
     "name": "stdout",
     "output_type": "stream",
     "text": [
      "12  *  1  =  12\n",
      "12  *  2  =  24\n",
      "12  *  3  =  36\n",
      "12  *  4  =  48\n",
      "12  *  5  =  60\n",
      "12  *  6  =  72\n",
      "12  *  7  =  84\n",
      "12  *  8  =  96\n",
      "12  *  9  =  108\n",
      "12  *  10  =  120\n"
     ]
    }
   ],
   "source": [
    "num = 12\n",
    "for x in range(1,11):\n",
    "    print (num , \" * \" , x ,\" = \", num*x)"
   ]
  },
  {
   "cell_type": "code",
   "execution_count": null,
   "metadata": {},
   "outputs": [],
   "source": []
  }
 ],
 "metadata": {
  "kernelspec": {
   "display_name": "Python 3",
   "language": "python",
   "name": "python3"
  },
  "language_info": {
   "codemirror_mode": {
    "name": "ipython",
    "version": 3
   },
   "file_extension": ".py",
   "mimetype": "text/x-python",
   "name": "python",
   "nbconvert_exporter": "python",
   "pygments_lexer": "ipython3",
   "version": "3.6.5"
  }
 },
 "nbformat": 4,
 "nbformat_minor": 2
}
