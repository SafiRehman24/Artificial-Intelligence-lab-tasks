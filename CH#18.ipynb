{
 "cells": [
  {
   "cell_type": "code",
   "execution_count": 3,
   "metadata": {},
   "outputs": [
    {
     "name": "stdout",
     "output_type": "stream",
     "text": [
      "['Cricket', 'Snooker', 'Nihari', 'Biryani', 'Karahi', 'Salad', 'Kabab', 'Polaow']\n",
      "['Cricket', 'Nihari', 'Biryani', 'Karahi', 'Kabab', 'Polaow']\n"
     ]
    }
   ],
   "source": [
    "Mix = [ \"Cricket\",\"Snooker\", \"Nihari\", \"Biryani\", \"Karahi\", \"Salad\", \"Kabab\", \"Polaow\" ]\n",
    "print(str(Mix))\n",
    "\n",
    "del Mix[5]\n",
    "\n",
    "Mix.remove(\"Snooker\")\n",
    "\n",
    "print(Mix)"
   ]
  },
  {
   "cell_type": "code",
   "execution_count": null,
   "metadata": {},
   "outputs": [],
   "source": []
  }
 ],
 "metadata": {
  "kernelspec": {
   "display_name": "Python 3",
   "language": "python",
   "name": "python3"
  },
  "language_info": {
   "codemirror_mode": {
    "name": "ipython",
    "version": 3
   },
   "file_extension": ".py",
   "mimetype": "text/x-python",
   "name": "python",
   "nbconvert_exporter": "python",
   "pygments_lexer": "ipython3",
   "version": "3.6.5"
  }
 },
 "nbformat": 4,
 "nbformat_minor": 2
}
