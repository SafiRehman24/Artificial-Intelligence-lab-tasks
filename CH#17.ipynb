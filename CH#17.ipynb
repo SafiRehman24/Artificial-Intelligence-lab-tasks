{
 "cells": [
  {
   "cell_type": "code",
   "execution_count": 3,
   "metadata": {},
   "outputs": [
    {
     "name": "stdout",
     "output_type": "stream",
     "text": [
      "['Cake', 'Qourma', 'Mehran', 'Cultus', 'Khyber', 'Subaru', 'Civic', 'Hiace']\n",
      "\n",
      "\n",
      "['Mehran', 'Cultus', 'Khyber', 'Subaru', 'Civic', 'Hiace']\n"
     ]
    }
   ],
   "source": [
    "Random = [ \"Cake\",\"Qourma\", \"Mehran\", \"Cultus\", \"Khyber\", \"Subaru\", \"Civic\", \"Hiace\" ]\n",
    "print(str(Random))\n",
    "\n",
    "list_of_cars = Random[2:8]\n",
    "print(\"\\n\")\n",
    "print(str(list_of_cars))"
   ]
  },
  {
   "cell_type": "code",
   "execution_count": null,
   "metadata": {},
   "outputs": [],
   "source": []
  }
 ],
 "metadata": {
  "kernelspec": {
   "display_name": "Python 3",
   "language": "python",
   "name": "python3"
  },
  "language_info": {
   "codemirror_mode": {
    "name": "ipython",
    "version": 3
   },
   "file_extension": ".py",
   "mimetype": "text/x-python",
   "name": "python",
   "nbconvert_exporter": "python",
   "pygments_lexer": "ipython3",
   "version": "3.6.5"
  }
 },
 "nbformat": 4,
 "nbformat_minor": 2
}
