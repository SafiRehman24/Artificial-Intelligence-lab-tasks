{
 "cells": [
  {
   "cell_type": "code",
   "execution_count": 8,
   "metadata": {},
   "outputs": [
    {
     "name": "stdout",
     "output_type": "stream",
     "text": [
      "['FIAT ', 'Baseball ', 'Nissan', 'Ferrari', 'KIA', 'Subaru', 'VENENO', 'Porche']\n",
      "FIAT Ferrari are best sports cars\n"
     ]
    }
   ],
   "source": [
    "Mix = [ \"FIAT \",\"Baseball \", \"Nissan\", \"Ferrari\", \"KIA\", \"Subaru\", \"VENENO\", \"Porche\" ]\n",
    "print(str(Mix))\n",
    "\n",
    "\n",
    "new_List = Mix.pop(0) + Mix.pop(2) \n",
    "\n",
    "print(new_List +  \" are best sports cars\")"
   ]
  },
  {
   "cell_type": "code",
   "execution_count": null,
   "metadata": {},
   "outputs": [],
   "source": []
  }
 ],
 "metadata": {
  "kernelspec": {
   "display_name": "Python 3",
   "language": "python",
   "name": "python3"
  },
  "language_info": {
   "codemirror_mode": {
    "name": "ipython",
    "version": 3
   },
   "file_extension": ".py",
   "mimetype": "text/x-python",
   "name": "python",
   "nbconvert_exporter": "python",
   "pygments_lexer": "ipython3",
   "version": "3.6.5"
  }
 },
 "nbformat": 4,
 "nbformat_minor": 2
}
