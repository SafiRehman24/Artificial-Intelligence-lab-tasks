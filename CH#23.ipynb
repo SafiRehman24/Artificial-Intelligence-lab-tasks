{
 "cells": [
  {
   "cell_type": "code",
   "execution_count": 3,
   "metadata": {},
   "outputs": [
    {
     "name": "stdout",
     "output_type": "stream",
     "text": [
      "Display multiplication table of? 30\n",
      "30  *  1  =  30\n",
      "30  *  2  =  60\n",
      "30  *  3  =  90\n",
      "30  *  4  =  120\n",
      "30  *  5  =  150\n",
      "30  *  6  =  180\n",
      "30  *  7  =  210\n",
      "30  *  8  =  240\n",
      "30  *  9  =  270\n",
      "30  *  10  =  300\n"
     ]
    }
   ],
   "source": [
    "num = int(input(\"Display multiplication table of? \"))\n",
    "for x in range(1,11):\n",
    "    print (num , \" * \" , x ,\" = \",num*x)"
   ]
  },
  {
   "cell_type": "code",
   "execution_count": null,
   "metadata": {},
   "outputs": [],
   "source": []
  }
 ],
 "metadata": {
  "kernelspec": {
   "display_name": "Python 3",
   "language": "python",
   "name": "python3"
  },
  "language_info": {
   "codemirror_mode": {
    "name": "ipython",
    "version": 3
   },
   "file_extension": ".py",
   "mimetype": "text/x-python",
   "name": "python",
   "nbconvert_exporter": "python",
   "pygments_lexer": "ipython3",
   "version": "3.6.5"
  }
 },
 "nbformat": 4,
 "nbformat_minor": 2
}
