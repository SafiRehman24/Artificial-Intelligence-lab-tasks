{
 "cells": [
  {
   "cell_type": "code",
   "execution_count": 6,
   "metadata": {},
   "outputs": [
    {
     "name": "stdout",
     "output_type": "stream",
     "text": [
      "Porche\n",
      " Hussam\n",
      "My name is  Hussam and my car is Porche\n"
     ]
    }
   ],
   "source": [
    "Cars = { 1: \"Porche\",  2: \"Ferrari\",  3: \"Subaru\" }\n",
    "\n",
    "print (Cars.get(1))\n",
    "\n",
    "profile = { \"Name\" : \" Hussam\"}\n",
    "print (profile.get(\"Name\"))\n",
    "\n",
    "print (\"My name is \"+profile.get(\"Name\")+\" and my car is \"+Cars.get(1))"
   ]
  },
  {
   "cell_type": "code",
   "execution_count": null,
   "metadata": {},
   "outputs": [],
   "source": []
  }
 ],
 "metadata": {
  "kernelspec": {
   "display_name": "Python 3",
   "language": "python",
   "name": "python3"
  },
  "language_info": {
   "codemirror_mode": {
    "name": "ipython",
    "version": 3
   },
   "file_extension": ".py",
   "mimetype": "text/x-python",
   "name": "python",
   "nbconvert_exporter": "python",
   "pygments_lexer": "ipython3",
   "version": "3.6.5"
  }
 },
 "nbformat": 4,
 "nbformat_minor": 2
}
